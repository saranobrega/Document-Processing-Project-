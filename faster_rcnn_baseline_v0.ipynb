{
 "cells": [
  {
   "cell_type": "markdown",
   "id": "1f19bba3",
   "metadata": {},
   "source": [
    "## Pytorch Lightning: Faster R-CNN"
   ]
  },
  {
   "cell_type": "code",
   "execution_count": 1,
   "id": "888499de",
   "metadata": {},
   "outputs": [],
   "source": [
    "import os\n",
    "import pandas as pd\n",
    "import torch\n",
    "import torch.utils.data\n",
    "import torchvision\n",
    "from torch.utils import data\n",
    "from PIL import Image\n",
    "from torchvision import transforms\n",
    "import numpy as np\n",
    "import matplotlib.pyplot as plt\n",
    "import json\n",
    "import pytorch_lightning as pl\n",
    "from sklearn.model_selection import train_test_split\n",
    "from torchvision.models.detection.anchor_utils import AnchorGenerator\n",
    "from torchvision.models.detection.faster_rcnn import RPNHead, MultiScaleRoIAlign, TwoMLPHead, FastRCNNPredictor \n",
    "from pathlib import Path, PosixPath\n",
    "from pytorch_lightning.callbacks import ModelCheckpoint\n",
    "from pytorch_lightning.callbacks.progress import TQDMProgressBar"
   ]
  },
  {
   "cell_type": "markdown",
   "id": "32a99397",
   "metadata": {},
   "source": [
    "### Check available devices (cpu or gpu)"
   ]
  },
  {
   "cell_type": "code",
   "execution_count": 2,
   "id": "dcc4a041",
   "metadata": {},
   "outputs": [
    {
     "name": "stdout",
     "output_type": "stream",
     "text": [
      "There are 1 GPU(s) available.\n",
      "We will use the GPU: Tesla M60\n"
     ]
    }
   ],
   "source": [
    "if torch.cuda.is_available():    \n",
    "    device = torch.device(\"cuda\")\n",
    "    print('There are %d GPU(s) available.' % torch.cuda.device_count())\n",
    "    print('We will use the GPU:', torch.cuda.get_device_name(0))\n",
    "\n",
    "else:\n",
    "    print('No GPU available, using the CPU instead.')\n",
    "    device = torch.device(\"cpu\")\n",
    "    "
   ]
  },
  {
   "cell_type": "code",
   "execution_count": 3,
   "id": "f830ddad",
   "metadata": {},
   "outputs": [],
   "source": [
    "#clearing the occupied cuda memory\n",
    "torch.cuda.empty_cache()"
   ]
  },
  {
   "cell_type": "markdown",
   "id": "dfc38f11",
   "metadata": {},
   "source": [
    "### Load coco annotation"
   ]
  },
  {
   "cell_type": "code",
   "execution_count": 4,
   "id": "37e5bc9a",
   "metadata": {},
   "outputs": [],
   "source": [
    "root_dir = 'object_detection_data_1000_samples/'"
   ]
  },
  {
   "cell_type": "code",
   "execution_count": 5,
   "id": "af8f30f7",
   "metadata": {},
   "outputs": [
    {
     "name": "stdout",
     "output_type": "stream",
     "text": [
      "dict_keys(['info', 'licenses', 'categories', 'images', 'annotations'])\n"
     ]
    }
   ],
   "source": [
    "with open(root_dir +'coco_annotation.json', 'r') as file:\n",
    "     coco_annotation = json.load(file)\n",
    "        \n",
    "print(coco_annotation.keys())"
   ]
  },
  {
   "cell_type": "code",
   "execution_count": 6,
   "id": "38f95ef6",
   "metadata": {},
   "outputs": [
    {
     "data": {
      "text/plain": [
       "{'area': 245372.32013445382,\n",
       " 'iscrowd': 0,\n",
       " 'image_id': 0,\n",
       " 'bbox': [118.12421344537815,\n",
       "  746.5194444444444,\n",
       "  1456.6958319327732,\n",
       "  168.44444444444446],\n",
       " 'category_id': 4,\n",
       " 'id': 6}"
      ]
     },
     "execution_count": 6,
     "metadata": {},
     "output_type": "execute_result"
    }
   ],
   "source": [
    "coco_annotation['annotations'][5]"
   ]
  },
  {
   "cell_type": "markdown",
   "id": "adcff054",
   "metadata": {},
   "source": [
    "### DocsDataset"
   ]
  },
  {
   "cell_type": "code",
   "execution_count": 7,
   "id": "1cea3f6b",
   "metadata": {},
   "outputs": [],
   "source": [
    "from PIL import Image\n",
    "from pycocotools.coco import COCO\n",
    "import albumentations\n",
    "\n",
    "class DocsDataset(torch.utils.data.Dataset):\n",
    "    def __init__(self, root, annotation):\n",
    "        self.width = 600\n",
    "        self.height = 800\n",
    "        self.root = root\n",
    "        self.coco = COCO(annotation)\n",
    "        self.ids = list(sorted(self.coco.imgs.keys())) \n",
    "\n",
    "    def __getitem__(self, index):\n",
    "        coco = self.coco\n",
    "        img_id = self.ids[index]\n",
    "        annotation_ids = coco.getAnnIds(imgIds=img_id)\n",
    "        # Dictionary: target coco_annotation file for an image\n",
    "        coco_annotation = coco.loadAnns(annotation_ids)\n",
    "        # path for input image: \n",
    "        path = coco.loadImgs(img_id)[0]['file_name']\n",
    "        # open the input image (type PIL)\n",
    "        img = Image.open(os.path.join(self.root, path))\n",
    "\n",
    "    \n",
    "        # number of objects(bboxes) in the image\n",
    "        num_objs = len(coco_annotation)\n",
    "        \n",
    "        #tensor containing object categories\n",
    "        category_ids = []\n",
    "        for i in range(len(coco_annotation)):\n",
    "            category_ids.append(coco_annotation[i][\"category_id\"])\n",
    "        class_labels = category_ids  \n",
    "            \n",
    "\n",
    "        # Bounding boxes for objects\n",
    "        # in coco format, bbox = [xmin, ymin, width, height]\n",
    "        coco_boxes = []\n",
    "        for i in range(num_objs):\n",
    "            xmin = coco_annotation[i]['bbox'][0]\n",
    "            ymin = coco_annotation[i]['bbox'][1]\n",
    "            w = coco_annotation[i]['bbox'][2]\n",
    "            h = coco_annotation[i]['bbox'][3]\n",
    "            coco_boxes.append([xmin, ymin, w, h])  \n",
    "            \n",
    "    \n",
    "        # Tensorise img_id\n",
    "        img_id = torch.tensor([img_id])\n",
    "        \n",
    "        # Area of the bbox\n",
    "        areas = []\n",
    "        for i in range(num_objs):\n",
    "            areas.append(coco_annotation[i]['area'])\n",
    "        areas = torch.as_tensor(areas, dtype=torch.float32)\n",
    "        \n",
    "        # Iscrowd\n",
    "        iscrowd = torch.zeros((num_objs,), dtype=torch.int64)\n",
    "\n",
    "        \n",
    "        \n",
    "        #resize images and bounding boxes    \n",
    "        image_arr = np.array(img)\n",
    "        bboxes_arr = np.array(coco_boxes)\n",
    "\n",
    "        transformed = resize_image(image_arr, bboxes_arr, class_labels, self.height, self.width)\n",
    "        #print(transformed)\n",
    "        \n",
    "        # in pytorch, the input bbox = [xmin, ymin, xmax, ymax]\n",
    "        pytorch_boxes = []\n",
    "        for bbox in transformed['bboxes']:\n",
    "            bbox = list(bbox)\n",
    "            xmin = bbox[0]\n",
    "            ymin = bbox[1]\n",
    "            w = bbox[2]\n",
    "            h = bbox[3]\n",
    "            xmax = xmin + w\n",
    "            ymax = ymin + h\n",
    "            pytorch_boxes.append([xmin, ymin, xmax, ymax])  \n",
    "            \n",
    "        transform = transforms.Compose ([\n",
    "            transforms.ToTensor()\n",
    "        ])\n",
    "        \n",
    "        img = transform(transformed['image'])\n",
    "            \n",
    "            \n",
    "        # Annotation is in dictionary format\n",
    "        my_annotation = {}\n",
    "        my_annotation[\"boxes\"] = torch.as_tensor(pytorch_boxes, dtype=torch.float32)\n",
    "        my_annotation[\"labels\"] = torch.as_tensor(transformed['class_labels'], dtype=torch.int64)\n",
    "        my_annotation[\"image_id\"] = img_id\n",
    "        my_annotation[\"area\"] = areas\n",
    "        my_annotation[\"iscrowd\"] = iscrowd\n",
    "        my_annotation\n",
    "        \n",
    "\n",
    "        return img, my_annotation\n",
    "\n",
    "    def __len__(self):\n",
    "        return len(self.ids)"
   ]
  },
  {
   "cell_type": "code",
   "execution_count": 8,
   "id": "36bb43f5",
   "metadata": {},
   "outputs": [],
   "source": [
    "def resize_image(image_arr, bboxes, class_labels, h, w):\n",
    "    transform = albumentations.Compose(\n",
    "        [albumentations.Resize(height=h, width=w, always_apply=True)],\n",
    "        bbox_params=albumentations.BboxParams(format='coco', label_fields=['class_labels']))\n",
    "    \n",
    "    transformed = transform(image=image_arr, bboxes=bboxes, class_labels=class_labels)\n",
    "    return transformed\n",
    "\n",
    "def collate_fn(batch):\n",
    "    return tuple(zip(*batch))"
   ]
  },
  {
   "cell_type": "code",
   "execution_count": 9,
   "id": "24cd889b",
   "metadata": {},
   "outputs": [
    {
     "name": "stdout",
     "output_type": "stream",
     "text": [
      "loading annotations into memory...\n",
      "Done (t=0.07s)\n",
      "creating index...\n",
      "index created!\n"
     ]
    }
   ],
   "source": [
    "#check dataset\n",
    "dataset = DocsDataset(root=root_dir, \n",
    "                      annotation = os.path.join(root_dir,'coco_annotation.json' ))"
   ]
  },
  {
   "cell_type": "markdown",
   "id": "f8835557",
   "metadata": {},
   "source": [
    "### Draw bounding boxes"
   ]
  },
  {
   "cell_type": "code",
   "execution_count": 10,
   "id": "c04c0ec3",
   "metadata": {},
   "outputs": [
    {
     "data": {
      "image/png": "[encoded data removed]",
      "text/plain": [
       "<Figure size 1000x1000 with 2 Axes>"
      ]
     },
     "metadata": {},
     "output_type": "display_data"
    }
   ],
   "source": [
    "from matplotlib import patches\n",
    "\n",
    "data_loader = torch.utils.data.DataLoader(dataset, \n",
    "                                          batch_size=2, \n",
    "                                          shuffle=True,\n",
    "                                          collate_fn=collate_fn,\n",
    "                                          num_workers=0)\n",
    "\n",
    "images,labels=next(iter(data_loader)) #batch size\n",
    "\n",
    "def draw_bboxes(images,labels,k,std=1,mean=0):\n",
    "    figure = plt.figure(figsize=(10,10))\n",
    "    images=list(images)\n",
    "    labels=list(labels)\n",
    "    \n",
    "    for i in range(k):\n",
    "        out=torchvision.utils.make_grid(images[i])\n",
    "        inp=out.cpu().numpy().transpose((1,2,0))\n",
    "        inp=np.array(std)*inp+np.array(mean)\n",
    "        inp=np.clip(inp,0,1)  \n",
    "        ax = figure.add_subplot(2,2, i + 1)\n",
    "        ax.imshow(images[i].cpu().numpy().transpose((1,2,0)))\n",
    "        l=labels[i]['boxes'].cpu().numpy()\n",
    "        l[:,2]=l[:,2]-l[:,0]\n",
    "        l[:,3]=l[:,3]-l[:,1]\n",
    "        for j in range(len(l)):\n",
    "            ax.add_patch(patches.Rectangle((l[j][0],l[j][1]),l[j][2],l[j][3],\n",
    "                                           linewidth=0.5,edgecolor='b',facecolor='none')) \n",
    "\n",
    "draw_bboxes(images,labels,2)"
   ]
  },
  {
   "cell_type": "markdown",
   "id": "acf60161",
   "metadata": {},
   "source": [
    "### DocsDataLoader (LightningDataModule)"
   ]
  },
  {
   "cell_type": "code",
   "execution_count": 11,
   "id": "5c3edea6",
   "metadata": {},
   "outputs": [],
   "source": [
    "class DocsDataLoader(pl.LightningDataModule):\n",
    "    def __init__(\n",
    "        self,\n",
    "        root_dir: Path,\n",
    "        coco_annotation_json: '',\n",
    "        batch_size: int,\n",
    "        stage: int = None\n",
    "    ):\n",
    "        super().__init__()\n",
    "        self.root_dir = root_dir\n",
    "        self.coco_annotation_json = coco_annotation_json\n",
    "        self.batch_size = batch_size\n",
    "        self.stage=stage\n",
    "\n",
    "\n",
    "    def __post_init__(self):\n",
    "        super().__init__()\n",
    "        self.setup(self.stage)\n",
    "\n",
    "    def setup(self, stage=None): \n",
    "        \n",
    "        dataset = DocsDataset(root=self.root_dir, \n",
    "                              annotation = os.path.join(self.root_dir, self.coco_annotation_json))\n",
    "\n",
    "        torch.manual_seed(1)\n",
    "        indices = torch.randperm(len(dataset)).tolist()\n",
    "        train_ind, test_ind = train_test_split(indices, test_size=0.1)\n",
    "        train_ind, val_ind = train_test_split(train_ind, test_size=0.1)\n",
    "\n",
    "        self.train_ds= torch.utils.data.Subset(dataset, train_ind)\n",
    "        self.val_ds = torch.utils.data.Subset(dataset, val_ind)\n",
    "        self.test_ds = torch.utils.data.Subset(dataset, test_ind)\n",
    "        \n",
    "        print('Training size: ', len(train_ind))\n",
    "        print('Val size: ', len(val_ind))\n",
    "        print('Test size: ', len(test_ind))\n",
    "        \n",
    "\n",
    "    def train_dataloader(self):\n",
    "        train_loader = torch.utils.data.DataLoader(self.train_ds, \n",
    "                                                   batch_size=self.batch_size, \n",
    "                                                   shuffle=True,\n",
    "                                                   collate_fn=collate_fn,\n",
    "                                                   num_workers=2)\n",
    "        return train_loader\n",
    "    \n",
    "    def val_dataloader(self):\n",
    "        val_loader = torch.utils.data.DataLoader(self.val_ds, \n",
    "                                                 batch_size=self.batch_size, \n",
    "                                                 shuffle=False,\n",
    "                                                 collate_fn=collate_fn,\n",
    "                                                 num_workers=2)\n",
    "        return val_loader"
   ]
  },
  {
   "cell_type": "markdown",
   "id": "f2e76069",
   "metadata": {},
   "source": [
    "### DocsTrainer (LightningModule)"
   ]
  },
  {
   "cell_type": "code",
   "execution_count": 12,
   "id": "2cf67ee7",
   "metadata": {},
   "outputs": [],
   "source": [
    "from torchmetrics.detection.mean_ap import MeanAveragePrecision\n",
    "\n",
    "\n",
    "class DocsTrainer(pl.LightningModule):\n",
    "    def __init__(self):\n",
    "        super().__init__()     \n",
    "        self.lr =  0.0001\n",
    "        self.epochs =  1\n",
    "        self.map = MeanAveragePrecision(box_format=\"xyxy\", class_metrics=True)\n",
    "        self.id2label = {0:\"table\", 1: \"footer\", 2:\"header\", 3:\"order_line_item_header\", 4:\"order_line_item\"}\n",
    "        self.num_classes= len(self.id2label)\n",
    "        self.model = torchvision.models.detection.fasterrcnn_resnet50_fpn(num_classes=self.num_classes)\n",
    "        \n",
    "        \n",
    "    def forward(self, images, targets):\n",
    "        return self.model(images, targets)\n",
    "\n",
    "    def configure_optimizers(self):\n",
    "        #return torch.optim.AdamW(self.model.parameters(), lr=self.lr)\n",
    "        return torch.optim.SGD(self.model.parameters(), lr=self.lr, momentum=0.9)\n",
    "\n",
    "    def training_step(self, batch, batch_idx):\n",
    "        images, targets = batch \n",
    "        images = list(image.to(self.device) for image in images)\n",
    "        targets = [{k: v.to(self.device) for k, v in t.items()} for t in targets]\n",
    "        loss_dict = self.model(images, targets) #Dict with tensors that contain loss values(cls,rpn...)\n",
    "        losses = sum(loss for loss in loss_dict.values())\n",
    "            \n",
    "        self.log(f\"train_loss\", losses, prog_bar=True)\n",
    "        return {\"loss\": losses, \"outputs\": {k:v.detach() for k, v in loss_dict.items()}} \n",
    "\n",
    "\n",
    "    def validation_step(self, batch, batch_idx):\n",
    "        images, targets = batch \n",
    "        images = list(image.to(self.device) for image in images)\n",
    "        targets = [{k: v.to(self.device) for k, v in t.items()} for t in targets]\n",
    "        #print(targets)\n",
    "        \n",
    "        preds = self.model(images, targets)\n",
    "        #print('preds',preds)\n",
    "    \n",
    "        self.map.update(preds=preds, target=targets)\n",
    "        return {\"preds\": preds[0], \"targets\": targets[0]}\n",
    "        \n",
    "        \n",
    "    def training_epoch_end(self, outputs):\n",
    "        final_train_loss = torch.mean(torch.stack([i[\"loss\"] for i in outputs]))\n",
    "        self.log(\"train_epoch_loss\", final_train_loss, prog_bar=True)\n",
    "\n",
    "        for loss_type in [\"loss_classifier\", \"loss_box_reg\", \"loss_objectness\", \"loss_rpn_box_reg\"]:\n",
    "            final_loss = torch.mean(torch.stack([i[\"outputs\"][loss_type] for i in outputs]))\n",
    "            self.log(f\"train_{loss_type}\", final_train_loss, prog_bar=True)\n",
    "        \n",
    "    \n",
    "  \n",
    "    def validation_epoch_end(self, outputs):\n",
    "        mAPs = {\"val_\" + k: v for k, v in self.map.compute().items()}\n",
    "        self.print(mAPs)\n",
    "        mAPs_per_class = mAPs.pop(\"val_map_per_class\")\n",
    "        mARs_per_class = mAPs.pop(\"val_mar_100_per_class\")\n",
    "        self.log_dict(mAPs, sync_dist=True)\n",
    "        self.log_dict(\n",
    "            {\n",
    "                f\"val_map_{label}\": value\n",
    "                for label, value in zip(self.id2label.values(), mAPs_per_class)\n",
    "            },\n",
    "            sync_dist=True,\n",
    "        )\n",
    "        self.log_dict(\n",
    "            {\n",
    "                f\"val_mar_100_{label}\": value\n",
    "                for label, value in zip(self.id2label.values(), mARs_per_class)\n",
    "            },\n",
    "            sync_dist=True,\n",
    "        )\n",
    "        self.map.reset()\n",
    "    "
   ]
  },
  {
   "cell_type": "markdown",
   "id": "5bc81d60",
   "metadata": {},
   "source": [
    "### Training"
   ]
  },
  {
   "cell_type": "code",
   "execution_count": 13,
   "id": "778405c2",
   "metadata": {},
   "outputs": [],
   "source": [
    "model = DocsTrainer()\n",
    "\n",
    "data_module = DocsDataLoader(\n",
    "                root_dir=root_dir, \n",
    "                coco_annotation_json='coco_annotation.json',\n",
    "                batch_size=2\n",
    "            )"
   ]
  },
  {
   "cell_type": "code",
   "execution_count": 14,
   "id": "204bf0b0",
   "metadata": {},
   "outputs": [
    {
     "name": "stderr",
     "output_type": "stream",
     "text": [
      "GPU available: True (cuda), used: False\n",
      "TPU available: False, using: 0 TPU cores\n",
      "IPU available: False, using: 0 IPUs\n",
      "HPU available: False, using: 0 HPUs\n",
      "/home/ubuntu/.cache/pypoetry/virtualenvs/document-understanding-0ZcI-Ry7-py3.9/lib/python3.9/site-packages/pytorch_lightning/trainer/setup.py:175: PossibleUserWarning: GPU available but not used. Set `accelerator` and `devices` using `Trainer(accelerator='gpu', devices=1)`.\n",
      "  rank_zero_warn(\n"
     ]
    }
   ],
   "source": [
    "trainer = pl.Trainer(callbacks=[TQDMProgressBar(refresh_rate=2)],\n",
    "                     logger=pl.loggers.TensorBoardLogger(\"faster_rcnn_v0_logs\", name=\"faster_rcnn_v0\"))"
   ]
  },
  {
   "cell_type": "code",
   "execution_count": 15,
   "id": "efb059b1",
   "metadata": {},
   "outputs": [
    {
     "name": "stderr",
     "output_type": "stream",
     "text": [
      "/home/ubuntu/.cache/pypoetry/virtualenvs/document-understanding-0ZcI-Ry7-py3.9/lib/python3.9/site-packages/pytorch_lightning/loops/utilities.py:94: PossibleUserWarning: `max_epochs` was not set. Setting it to 1000 epochs. To train without an epoch limit, set `max_epochs=-1`.\n",
      "  rank_zero_warn(\n",
      "\n",
      "  | Name  | Type                 | Params\n",
      "-----------------------------------------------\n",
      "0 | map   | MeanAveragePrecision | 0     \n",
      "1 | model | FasterRCNN           | 41.3 M\n",
      "-----------------------------------------------\n",
      "41.1 M    Trainable params\n",
      "222 K     Non-trainable params\n",
      "41.3 M    Total params\n",
      "165.258   Total estimated model params size (MB)\n"
     ]
    },
    {
     "name": "stdout",
     "output_type": "stream",
     "text": [
      "loading annotations into memory...\n",
      "Done (t=0.08s)\n",
      "creating index...\n",
      "index created!\n",
      "Training size:  795\n",
      "Val size:  89\n",
      "Test size:  99\n"
     ]
    },
    {
     "data": {
      "application/vnd.jupyter.widget-view+json": {
       "model_id": "",
       "version_major": 2,
       "version_minor": 0
      },
      "text/plain": [
       "Sanity Checking: 0it [00:00, ?it/s]"
      ]
     },
     "metadata": {},
     "output_type": "display_data"
    },
    {
     "name": "stderr",
     "output_type": "stream",
     "text": [
      "/home/ubuntu/.cache/pypoetry/virtualenvs/document-understanding-0ZcI-Ry7-py3.9/lib/python3.9/site-packages/pytorch_lightning/trainer/connectors/data_connector.py:224: PossibleUserWarning: The dataloader, val_dataloader 0, does not have many workers which may be a bottleneck. Consider increasing the value of the `num_workers` argument` (try 4 which is the number of cpus on this machine) in the `DataLoader` init to improve performance.\n",
      "  rank_zero_warn(\n"
     ]
    },
    {
     "name": "stdout",
     "output_type": "stream",
     "text": [
      "{'val_map': tensor(0.), 'val_map_50': tensor(0.), 'val_map_75': tensor(0.), 'val_map_small': tensor(-1.), 'val_map_medium': tensor(0.), 'val_map_large': tensor(0.), 'val_mar_1': tensor(0.), 'val_mar_10': tensor(0.), 'val_mar_100': tensor(0.), 'val_mar_small': tensor(-1.), 'val_mar_medium': tensor(0.), 'val_mar_large': tensor(0.), 'val_map_per_class': tensor([0., 0., 0., 0., 0.]), 'val_mar_100_per_class': tensor([0., 0., 0., 0., 0.])}\n"
     ]
    },
    {
     "name": "stderr",
     "output_type": "stream",
     "text": [
      "/home/ubuntu/.cache/pypoetry/virtualenvs/document-understanding-0ZcI-Ry7-py3.9/lib/python3.9/site-packages/pytorch_lightning/trainer/connectors/data_connector.py:224: PossibleUserWarning: The dataloader, train_dataloader, does not have many workers which may be a bottleneck. Consider increasing the value of the `num_workers` argument` (try 4 which is the number of cpus on this machine) in the `DataLoader` init to improve performance.\n",
      "  rank_zero_warn(\n"
     ]
    },
    {
     "data": {
      "application/vnd.jupyter.widget-view+json": {
       "model_id": "919d289e69794f8aba2fdef9b940a3de",
       "version_major": 2,
       "version_minor": 0
      },
      "text/plain": [
       "Training: 0it [00:00, ?it/s]"
      ]
     },
     "metadata": {},
     "output_type": "display_data"
    },
    {
     "name": "stderr",
     "output_type": "stream",
     "text": [
      "/home/ubuntu/.cache/pypoetry/virtualenvs/document-understanding-0ZcI-Ry7-py3.9/lib/python3.9/site-packages/pytorch_lightning/trainer/call.py:48: UserWarning: Detected KeyboardInterrupt, attempting graceful shutdown...\n",
      "  rank_zero_warn(\"Detected KeyboardInterrupt, attempting graceful shutdown...\")\n"
     ]
    }
   ],
   "source": [
    "trainer.fit(model, data_module)"
   ]
  },
  {
   "cell_type": "code",
   "execution_count": null,
   "id": "ba4fc882",
   "metadata": {},
   "outputs": [],
   "source": []
  },
  {
   "cell_type": "code",
   "execution_count": null,
   "id": "1719e83a",
   "metadata": {},
   "outputs": [],
   "source": []
  },
  {
   "cell_type": "code",
   "execution_count": null,
   "id": "9dc3d475",
   "metadata": {},
   "outputs": [],
   "source": []
  },
  {
   "cell_type": "code",
   "execution_count": null,
   "id": "85c081a5",
   "metadata": {},
   "outputs": [],
   "source": []
  }
 ],
 "metadata": {
  "kernelspec": {
   "display_name": "Python 3 (ipykernel)",
   "language": "python",
   "name": "python3"
  },
  "language_info": {
   "codemirror_mode": {
    "name": "ipython",
    "version": 3
   },
   "file_extension": ".py",
   "mimetype": "text/x-python",
   "name": "python",
   "nbconvert_exporter": "python",
   "pygments_lexer": "ipython3",
   "version": "3.9.15"
  }
 },
 "nbformat": 4,
 "nbformat_minor": 5
}

{
 "cells": [
  {
   "cell_type": "code",
   "execution_count": 152,
   "id": "15bb970a",
   "metadata": {},
   "outputs": [],
   "source": [
    "import os\n",
    "import torch\n",
    "import torch.utils.data\n",
    "import torchvision\n",
    "from pycocotools.coco import COCO\n",
    "from coco.PythonAPI.pycocotools.coco import COCO\n",
    "from PIL import Image"
   ]
  },
  {
   "cell_type": "code",
   "execution_count": 345,
   "id": "6bc9ace0",
   "metadata": {},
   "outputs": [
    {
     "name": "stdout",
     "output_type": "stream",
     "text": [
      "The blackcellmagic extension is already loaded. To reload it, use:\n",
      "  %reload_ext blackcellmagic\n"
     ]
    }
   ],
   "source": [
    "%load_ext blackcellmagic\n",
    "import torch\n",
    "import os\n",
    "import structlog\n",
    "from datetime import datetime\n",
    "from torch import nn\n",
    "from torch.nn import functional as F\n",
    "from torch.utils.data import DataLoader\n",
    "from torch.utils.data import random_split\n",
    "from torchvision.datasets import MNIST\n",
    "from torchvision import transforms\n",
    "import pytorch_lightning as pl\n",
    "import pandas as pd\n",
    "import numpy as np\n",
    "from tqdm.auto import tqdm\n",
    "import torch\n",
    "import torch.nn as nn\n",
    "from torch.utils.data import Dataset, DataLoader\n",
    "from transformers import BertTokenizerFast as BertTokenizer, BertModel, AdamW, get_linear_schedule_with_warmup\n",
    "import pytorch_lightning as pl\n",
    "from torchmetrics.functional import accuracy, auroc #,f1\n",
    "#from pytorch_lightning.metrics.functional import accuracy, f1, auroc\n",
    "from pytorch_lightning.callbacks import ModelCheckpoint, EarlyStopping\n",
    "from pytorch_lightning.loggers import TensorBoardLogger\n",
    "from sklearn.model_selection import train_test_split\n",
    "from sklearn.metrics import classification_report, multilabel_confusion_matrix\n",
    "import seaborn as sns\n",
    "from pylab import rcParams\n",
    "import matplotlib.pyplot as plt\n",
    "from matplotlib import rc\n",
    "%matplotlib inline\n",
    "%config InlineBackend.figure_format='retina'\n",
    "import os\n",
    "import glob\n",
    "import pandas as pd\n",
    "import numpy as np\n",
    "from collections import Counter\n",
    "import matplotlib.pyplot as plt\n",
    "import random\n",
    "import pytorch_lightning as pl\n",
    "from tqdm import tqdm\n",
    "from coco.PythonAPI.pycocotools.coco import COCO\n",
    "from pycocotools.coco import COCO"
   ]
  },
  {
   "cell_type": "code",
   "execution_count": 346,
   "id": "249a80a5",
   "metadata": {},
   "outputs": [],
   "source": [
    "import torchvision"
   ]
  },
  {
   "cell_type": "markdown",
   "id": "0522b8e8",
   "metadata": {},
   "source": [
    "### Convert to COCO from data.py file"
   ]
  },
  {
   "cell_type": "code",
   "execution_count": 347,
   "id": "8a5e42e4",
   "metadata": {},
   "outputs": [],
   "source": [
    "def _crop_bbox(bbox, width, height):\n",
    "    \"\"\"\n",
    "    It crops the bbox according to width and height maxima, if the bbox is over-sized.\n",
    "    Additionally it also corrects negative coordinates by setting it to zero.\n",
    "\n",
    "    bbox coordinates are [[x1,y1][x2,y2]]\n",
    "    The (x1, y1) position is at the top left corner,\n",
    "    the (x2, y2) position is at the bottom right corner\n",
    "    \"\"\"\n",
    "\n",
    "    # check for over-sized bbox\n",
    "    margin = 2  # px\n",
    "    bbox[0] = width - margin if bbox[0] > width else bbox[0]\n",
    "    bbox[1] = height - margin if bbox[1] > height else bbox[1]\n",
    "    bbox[2] = width - margin if bbox[2] > width else bbox[2]\n",
    "    bbox[3] = height - margin if bbox[3] > height else bbox[3]\n",
    "\n",
    "    # correct negative coordinates\n",
    "    bbox = [c if c >= 0 else 0.0 for c in bbox]\n",
    "\n",
    "    return bbox"
   ]
  },
  {
   "cell_type": "code",
   "execution_count": 348,
   "id": "1ede9d52",
   "metadata": {},
   "outputs": [],
   "source": [
    "DEFAULT_BBOX_SIZE_THRESHOLD = 5"
   ]
  },
  {
   "cell_type": "code",
   "execution_count": 349,
   "id": "37af6670",
   "metadata": {},
   "outputs": [],
   "source": [
    "def convert_bbox_XYWH(bbox):\n",
    "    width = bbox[2] - bbox[0]\n",
    "    height = bbox[3] - bbox[1]\n",
    "    return [bbox[0], bbox[1], width, height]"
   ]
  },
  {
   "cell_type": "code",
   "execution_count": 350,
   "id": "adcc2dd1",
   "metadata": {},
   "outputs": [],
   "source": [
    "logger = structlog.getLogger(__name__)"
   ]
  },
  {
   "cell_type": "code",
   "execution_count": 351,
   "id": "48ca3296",
   "metadata": {},
   "outputs": [],
   "source": [
    "from datetime import datetime\n",
    "def convert_to_coco(annotations, categories):\n",
    "    \"\"\"\n",
    "    Converts the Workist DLA annotations into the Microsoft COCO annotations format.\n",
    "    More information about the COCO format here: https://cocodataset.org/#home\n",
    "    :param annotations: annotations in Workist format\n",
    "    :param categories: list of categories\n",
    "    :return: COCO-formatted annotations consisting of multiple sections:\n",
    "    [{\n",
    "      \"info\":{\n",
    "         \"description\":\"Document layout analysis data set\",\n",
    "         \"url\":\"https://www.workist.com\",\n",
    "         \"version\":\"1.0\",\n",
    "         \"year\":2021,\n",
    "         \"contributor\":\"Workist GmbH\",\n",
    "         \"date_created\":\"2021/02/09\"\n",
    "      },\n",
    "      \"licenses\":[\n",
    "         {\n",
    "            \"url\":\"https://www.workist.com\",\n",
    "            \"id\":1,\n",
    "            \"name\":\"Workist GmbH Property\"\n",
    "         },...],\n",
    "      \"categories\":[\n",
    "         {\n",
    "            \"supercategory\":\"orders\",\n",
    "            \"id\":0,\n",
    "            \"name\":\"table\"\n",
    "         },...],\n",
    "      \"images\":[\n",
    "         {\n",
    "            \"license\":1,\n",
    "            \"file_name\":\"absolut_path/test.png\",\n",
    "            \"height\":2339,\n",
    "            \"width\":1654,\n",
    "            \"id\":0\n",
    "         },...],\n",
    "      \"annotations\":{\n",
    "         \"width\":1600,\n",
    "         \"height\":2400,\n",
    "         \"url\":\"images/test.png\",\n",
    "         \"file_name\":\"test/images/test.png\",\n",
    "         \"annotations\":[\n",
    "            {\n",
    "               \"class\":1,\n",
    "               \"bbox\":[\n",
    "                  -50.0,\n",
    "                  100.0,\n",
    "                  1000.0,\n",
    "                  1100.0\n",
    "               ],\n",
    "               \"bbox_mode\":0,\n",
    "               \"category_id\":1\n",
    "            },...]\n",
    "      }\n",
    "    },...]\n",
    "    \"\"\"\n",
    "    # Prepare info section\n",
    "    info = {\n",
    "        \"description\": \"Document layout analysis training data set\",\n",
    "        \"url\": \"https://www.workist.com\",\n",
    "        \"version\": \"1.0\",\n",
    "        \"year\": datetime.utcnow().year,\n",
    "        \"contributor\": \"Workist GmbH\",\n",
    "        \"date_created\": datetime.utcnow().date().isoformat(),\n",
    "    }\n",
    "\n",
    "    # Prepare license section\n",
    "    licenses = [{\"url\": \"https://www.workist.com\", \"id\": 1, \"name\": \"Workist GmbH Property\"}]\n",
    "\n",
    "    # Prepare category section\n",
    "    coco_categories = []\n",
    "    class_to_id_map = {c: k for k, c in enumerate(categories)}\n",
    "    for category in categories:\n",
    "        cat_dict = {\"supercategory\": \"orders\", \"id\": class_to_id_map[category], \"name\": category}\n",
    "        coco_categories.append(cat_dict)\n",
    "\n",
    "    # Prepare image and annotation sections\n",
    "    coco_images = []\n",
    "    coco_annotations = []\n",
    "    jobs_empty_annotations = []\n",
    "    tiny_bboxes = []\n",
    "    annotation_id_offset = 0\n",
    "    for page_count, page in enumerate(annotations):\n",
    "\n",
    "        # Get pages with no annotation\n",
    "        if not page[\"annotations\"]:\n",
    "            jobs_empty_annotations.append(page[\"operator_job_id\"])\n",
    "            continue\n",
    "\n",
    "        width, height = page[\"width\"], page[\"height\"]\n",
    "        image = {\"license\": 1, \"file_name\": page[\"file_name\"], \"height\": height, \"width\": width, \"id\": page_count}\n",
    "        coco_images.append(image)\n",
    "\n",
    "        # Iterate over all annotations of one page\n",
    "        for annotation in page[\"annotations\"]:\n",
    "\n",
    "            # Check and crop bbox for negative and too big coordinates\n",
    "            annotation[\"bbox\"] = _crop_bbox(annotation[\"bbox\"], width, height)\n",
    "\n",
    "            # Check if bbox height is tiny (<DEFAULT_BBOX_SIZE_THRESHOLD px)\n",
    "            if annotation[\"bbox\"][3] - annotation[\"bbox\"][1] < DEFAULT_BBOX_SIZE_THRESHOLD:\n",
    "                tiny_bboxes.append(page[\"operator_job_id\"])\n",
    "                continue\n",
    "            # Check if bbox width is tiny (<DEFAULT_BBOX_SIZE_THRESHOLD px)\n",
    "            if annotation[\"bbox\"][2] - annotation[\"bbox\"][0] < DEFAULT_BBOX_SIZE_THRESHOLD:\n",
    "                tiny_bboxes.append(page[\"operator_job_id\"])\n",
    "                continue\n",
    "\n",
    "            # Convert bbox with [x1, y1, x2, y2] to [x1, y1, width, height]\n",
    "            bbox_XYWH = convert_bbox_XYWH(annotation[\"bbox\"])\n",
    "            coco_annotation = {\n",
    "                \"area\": bbox_XYWH[2] * bbox_XYWH[3],\n",
    "                \"iscrowd\": 0,\n",
    "                \"image_id\": page_count,\n",
    "                \"bbox\": bbox_XYWH,\n",
    "                \"category_id\": class_to_id_map[categories[annotation[\"class\"]]],\n",
    "                \"id\": len(coco_annotations) + 1,\n",
    "            }\n",
    "            coco_annotations.append(coco_annotation)\n",
    "\n",
    "    logger.info(f\"Total of {len(jobs_empty_annotations)} pages skipped as no annotations were provided.\")\n",
    "    logger.info(\n",
    "        f\"Total of {len(tiny_bboxes)} annotations skipped as size was invalid (<{DEFAULT_BBOX_SIZE_THRESHOLD}px).\"\n",
    "    )\n",
    "    logger.info(f\"Total of {len(coco_annotations)} annotations converted to the COCO format.\")\n",
    "\n",
    "    # Put everything together\n",
    "    coco_annotation_json = {\n",
    "        \"info\": info,\n",
    "        \"licenses\": licenses,\n",
    "        \"categories\": coco_categories,\n",
    "        \"images\": coco_images,\n",
    "        \"annotations\": coco_annotations,\n",
    "    }\n",
    "    return coco_annotation_json\n"
   ]
  },
  {
   "cell_type": "markdown",
   "id": "db92b812",
   "metadata": {},
   "source": [
    "### Load data and convert to COCO"
   ]
  },
  {
   "cell_type": "code",
   "execution_count": 352,
   "id": "bb3664cc",
   "metadata": {},
   "outputs": [],
   "source": [
    "import json"
   ]
  },
  {
   "cell_type": "code",
   "execution_count": 353,
   "id": "0045aa2e",
   "metadata": {},
   "outputs": [],
   "source": [
    "data_dir = \"/Users/saranobrega/Desktop/2022-11-22_object_detection_data\"\n",
    "annotations='/Users/saranobrega/Desktop/2022-11-22_object_detection_data/all_annotations.json'\n",
    "categories='/Users/saranobrega/Desktop/2022-11-22_object_detection_data/categories.json'"
   ]
  },
  {
   "cell_type": "code",
   "execution_count": 354,
   "id": "d725afc4",
   "metadata": {},
   "outputs": [
    {
     "data": {
      "text/plain": [
       "'/Users/saranobrega/Desktop/2022-11-22_object_detection_data/all_annotations.json'"
      ]
     },
     "execution_count": 354,
     "metadata": {},
     "output_type": "execute_result"
    }
   ],
   "source": [
    "annotations"
   ]
  },
  {
   "cell_type": "code",
   "execution_count": 355,
   "id": "49698b56",
   "metadata": {},
   "outputs": [],
   "source": [
    "#with open('/Users/saranobrega/Desktop/2022-11-22_object_detection_data/all_annotations.json') as fp:\n",
    "#    annotations_data = json.load(fp)"
   ]
  },
  {
   "cell_type": "code",
   "execution_count": 356,
   "id": "227175a8",
   "metadata": {},
   "outputs": [
    {
     "data": {
      "text/plain": [
       "list"
      ]
     },
     "execution_count": 356,
     "metadata": {},
     "output_type": "execute_result"
    }
   ],
   "source": [
    "type(annotations_data)"
   ]
  },
  {
   "cell_type": "code",
   "execution_count": 357,
   "id": "a5703a7c",
   "metadata": {},
   "outputs": [
    {
     "name": "stdout",
     "output_type": "stream",
     "text": [
      "65935\n"
     ]
    }
   ],
   "source": [
    "print(len(annotations_data))"
   ]
  },
  {
   "cell_type": "code",
   "execution_count": 358,
   "id": "195c7dd7",
   "metadata": {},
   "outputs": [],
   "source": [
    "#annotations_data"
   ]
  },
  {
   "cell_type": "code",
   "execution_count": 359,
   "id": "feca9b8c",
   "metadata": {},
   "outputs": [],
   "source": [
    "#with open('/Users/saranobrega/Desktop/2022-11-22_object_detection_data/categories.json') as fp:\n",
    "#    categories_data = json.load(fp)"
   ]
  },
  {
   "cell_type": "code",
   "execution_count": 360,
   "id": "adde16c3",
   "metadata": {},
   "outputs": [
    {
     "data": {
      "text/plain": [
       "list"
      ]
     },
     "execution_count": 360,
     "metadata": {},
     "output_type": "execute_result"
    }
   ],
   "source": [
    "type(categories_data)"
   ]
  },
  {
   "cell_type": "code",
   "execution_count": 361,
   "id": "a019bf69",
   "metadata": {},
   "outputs": [
    {
     "data": {
      "text/plain": [
       "['table', 'footer', 'header', 'order_line_item_header', 'order_line_item']"
      ]
     },
     "execution_count": 361,
     "metadata": {},
     "output_type": "execute_result"
    }
   ],
   "source": [
    "categories_data"
   ]
  },
  {
   "cell_type": "markdown",
   "id": "a13ea4d2",
   "metadata": {},
   "source": [
    "Subsampling"
   ]
  },
  {
   "cell_type": "code",
   "execution_count": 362,
   "id": "487c1a02",
   "metadata": {},
   "outputs": [],
   "source": [
    "def create_reduced_dataset_dir(src_dir, dst_dir, data_perc):\n",
    "    \n",
    "    '''\n",
    "    src_dir: path to 022-11-22_object_detection_data directory\n",
    "    dst_dir: path to new dir with n number of samples\n",
    "    data_perc: percentage of the original dataset (number of samples in the reduced dataset)\n",
    "    '''\n",
    "    \n",
    "    src_dir = str(src_dir) + '/2022-11-22_object_detection_data'\n",
    "    \n",
    "    with open(src_dir + '/all_annotations.json', 'r') as file:\n",
    "         all_annotations = json.load(file)\n",
    "\n",
    "    with open(src_dir + '/categories.json', 'r') as file:\n",
    "         categories = json.load(file)\n",
    "    \n",
    "    annotations_len = len(all_annotations)\n",
    "    sample_size = round(annotations_len*data_perc)\n",
    "    n_random_annotations = random.sample(all_annotations, sample_size)\n",
    "    \n",
    "\n",
    "    #path to the new directory\n",
    "    dst_dir = str(dst_dir) + '/object_detection_data_' + str(sample_size) + '_samples' \n",
    "\n",
    "    #create dst_dir if it doesn't exist\n",
    "    if not os.path.exists(dst_dir):\n",
    "            os.makedirs(dst_dir)\n",
    "\n",
    "    #make images dir inside dst_dir\n",
    "    images_dir = dst_dir + '/images'\n",
    "    if not os.path.exists(images_dir):\n",
    "            os.makedirs(images_dir)\n",
    "\n",
    "    #copy images\n",
    "    for i in range(0,len(n_random_annotations)):\n",
    "        image_name = n_random_annotations[i]['file_name']\n",
    "        shutil.copy(os.path.join(src_dir, image_name), images_dir)\n",
    "\n",
    "    #save sampled annotations and categories\n",
    "    with open(os.path.join(dst_dir,'all_annotation.json'),'w') as json_file:\n",
    "             json.dump(n_random_annotations, json_file)\n",
    "\n",
    "    with open(os.path.join(dst_dir,'categories.json'),'w') as json_file:\n",
    "             json.dump(categories, json_file)"
   ]
  },
  {
   "cell_type": "code",
   "execution_count": 1,
   "id": "4ef8c693",
   "metadata": {},
   "outputs": [],
   "source": [
    "create_reduced_dataset_dir(src_dir='/Users/saranobrega/Desktop',\n",
    "                           dst_dir='/Users/saranobrega/Desktop',\n",
    "                           data_perc=0.05)"
   ]
  },
  {
   "cell_type": "markdown",
   "id": "900730d8",
   "metadata": {},
   "source": [
    "Convert to COCO"
   ]
  },
  {
   "cell_type": "code",
   "execution_count": 365,
   "id": "f0ceccbe",
   "metadata": {},
   "outputs": [],
   "source": [
    "#data_COCO['annotations']"
   ]
  },
  {
   "cell_type": "code",
   "execution_count": 366,
   "id": "59667b5c",
   "metadata": {},
   "outputs": [],
   "source": [
    "#data_COCO['images']"
   ]
  },
  {
   "cell_type": "code",
   "execution_count": 338,
   "id": "d5dad728",
   "metadata": {},
   "outputs": [],
   "source": [
    "#annotations_only=data_COCO['annotations']"
   ]
  },
  {
   "cell_type": "code",
   "execution_count": 340,
   "id": "e8781773",
   "metadata": {},
   "outputs": [
    {
     "data": {
      "text/plain": [
       "4685"
      ]
     },
     "execution_count": 340,
     "metadata": {},
     "output_type": "execute_result"
    }
   ],
   "source": [
    "len(annotations_only"
   ]
  },
  {
   "cell_type": "code",
   "execution_count": 105,
   "id": "337ce2da",
   "metadata": {},
   "outputs": [
    {
     "data": {
      "text/plain": [
       "dict"
      ]
     },
     "execution_count": 105,
     "metadata": {},
     "output_type": "execute_result"
    }
   ],
   "source": [
    "type(data_COCO)"
   ]
  },
  {
   "cell_type": "code",
   "execution_count": 110,
   "id": "f8c2c125",
   "metadata": {},
   "outputs": [],
   "source": [
    "#print(data_COCO.items())\n",
    "# doesnt work"
   ]
  },
  {
   "cell_type": "code",
   "execution_count": 113,
   "id": "b695c6d5",
   "metadata": {},
   "outputs": [],
   "source": [
    "data_COCO_list = list(data_COCO.items())\n",
    "#data_COCO_list "
   ]
  },
  {
   "cell_type": "code",
   "execution_count": 111,
   "id": "d9a9740e",
   "metadata": {},
   "outputs": [],
   "source": [
    "#dict format\n",
    "#with open('data_coco_format_dict.json', 'w', encoding='utf-8') as f:\n",
    "#    json.dump(data_COCO, f)"
   ]
  },
  {
   "cell_type": "code",
   "execution_count": 115,
   "id": "a332e71d",
   "metadata": {},
   "outputs": [],
   "source": [
    "#list format\n",
    "#with open('data_coco_format_list.json', 'w', encoding='utf-8') as f:\n",
    "#    json.dump(data_COCO_list, f)"
   ]
  },
  {
   "cell_type": "code",
   "execution_count": 94,
   "id": "f9a0a70f",
   "metadata": {},
   "outputs": [],
   "source": [
    "# only annotations\n",
    "#annotations_only=data_COCO['annotations']"
   ]
  },
  {
   "cell_type": "code",
   "execution_count": 147,
   "id": "04978cea",
   "metadata": {},
   "outputs": [],
   "source": [
    "#first_value = list(data_COCO.values())[0:3]\n",
    "#first_value"
   ]
  },
  {
   "cell_type": "code",
   "execution_count": null,
   "id": "a8ed3dbf",
   "metadata": {},
   "outputs": [],
   "source": [
    "# trying test split"
   ]
  },
  {
   "cell_type": "code",
   "execution_count": 309,
   "id": "defc15c6",
   "metadata": {},
   "outputs": [],
   "source": [
    "#data_COCO"
   ]
  },
  {
   "cell_type": "code",
   "execution_count": 313,
   "id": "1c6ee0ec",
   "metadata": {},
   "outputs": [],
   "source": [
    "annotations=data_COCO['annotations']"
   ]
  },
  {
   "cell_type": "code",
   "execution_count": 367,
   "id": "ac511a97",
   "metadata": {},
   "outputs": [],
   "source": [
    "#annotations"
   ]
  },
  {
   "cell_type": "code",
   "execution_count": 317,
   "id": "17e922f8",
   "metadata": {},
   "outputs": [],
   "source": [
    "categories=data_COCO['categories']"
   ]
  },
  {
   "cell_type": "code",
   "execution_count": 368,
   "id": "bc75dce8",
   "metadata": {},
   "outputs": [],
   "source": [
    "#categories"
   ]
  },
  {
   "cell_type": "code",
   "execution_count": 310,
   "id": "242d64fe",
   "metadata": {},
   "outputs": [
    {
     "data": {
      "text/plain": [
       "dict_keys(['info', 'licenses', 'categories', 'images', 'annotations'])"
      ]
     },
     "execution_count": 310,
     "metadata": {},
     "output_type": "execute_result"
    }
   ],
   "source": [
    "data_COCO.keys()"
   ]
  },
  {
   "cell_type": "code",
   "execution_count": 312,
   "id": "121b649d",
   "metadata": {},
   "outputs": [
    {
     "data": {
      "text/plain": [
       "['info', 'licenses', 'categories', 'images', 'annotations']"
      ]
     },
     "execution_count": 312,
     "metadata": {},
     "output_type": "execute_result"
    }
   ],
   "source": [
    "list(data_COCO)"
   ]
  },
  {
   "cell_type": "code",
   "execution_count": 201,
   "id": "714a567d",
   "metadata": {},
   "outputs": [
    {
     "data": {
      "text/plain": [
       "((631636, 2), (33244, 2))"
      ]
     },
     "execution_count": 201,
     "metadata": {},
     "output_type": "execute_result"
    }
   ],
   "source": [
    "train_df, val_df = train_test_split(df, test_size=0.05,shuffle=True)\n",
    "train_df.shape, val_df.shape"
   ]
  },
  {
   "cell_type": "code",
   "execution_count": null,
   "id": "8e851599",
   "metadata": {},
   "outputs": [],
   "source": [
    "train_df = train_df.reset_index()\n",
    "val_df = val_df.reset_index()\n"
   ]
  },
  {
   "cell_type": "markdown",
   "id": "68c6cc35",
   "metadata": {},
   "source": [
    "### Dataset validator to verify and check if the dataset is in COCO format:"
   ]
  },
  {
   "cell_type": "markdown",
   "id": "06f4066a",
   "metadata": {},
   "source": [
    "https://www.section.io/engineering-education/understanding-coco-dataset/"
   ]
  },
  {
   "cell_type": "code",
   "execution_count": 49,
   "id": "a5737caf",
   "metadata": {},
   "outputs": [],
   "source": [
    "coco_data=data_COCO"
   ]
  },
  {
   "cell_type": "code",
   "execution_count": 66,
   "id": "f5773197",
   "metadata": {},
   "outputs": [],
   "source": [
    "def assertions(key, values, required_keys, unique_key=None):\n",
    "    unique_key_id_mapper = {} # Mapping to keep track of the images\n",
    "    for value in values: # Looping through each key to map the unique key with 'id'\n",
    "        if unique_key is not None:\n",
    "            unique_key_id_mapper[value['id']] = value[unique_key] # Map the 'unique_key' with 'id'\n",
    "    for required_key in required_keys:\n",
    "        assert required_key in value, \"'{}' does not contain the required key '{}'\".format(key, required_key) # Check if the required key is present in parent object\n",
    "    return unique_key_id_mapper # Return the mapping"
   ]
  },
  {
   "cell_type": "code",
   "execution_count": 72,
   "id": "d7a040d0",
   "metadata": {},
   "outputs": [],
   "source": [
    "def annotation_assertions(key, annotations, image_map, category_map):\n",
    "    required_keys = ['area', 'iscrowd', 'bbox', 'category_id', 'image_id', 'id'] # Specify all the required keys under 'annotations'\n",
    "    assertions('annotations', coco_data['annotations'], required_keys, None) # Assert the presence of all the required keys within the parent object\n",
    "    for annotation in annotations:\n",
    "        assert len(annotation['bbox']) == 4, \"'{}' key in 'annotations' does not match the expected format\".format('bbox') # Check if 'bbox' contains a list of 4 elements\n",
    "        assert annotation['category_id'] in category_map, \"'{}' is not present in the 'categories' mapping\".format('category_id') # Check if the 'category_id' is present in the mapping that we created earlier\n",
    "        assert annotation['image_id'] in image_map, \"'{}' is not present in the 'images' mapping\".format('image_id') # Check if the 'image_id' is present in the mapping that we created earlier\n",
    "        assert annotation['area'] == (annotation['bbox'][2] * annotation['bbox'][3]), \"Mismatch of values in '{}' and '{}'\".format('area', 'bbox') # Check 'area' is a product of 'width' and 'height'\n",
    "        #assert len(annotation['segmentation'][0]) == 8 or len(annotation['segmentation']) == 0, \"'{}' must either be an empty list or contain a list of 8 values\".format('segmentation') # Check if the 'segmentation' values contains expected list\n",
    "        assert annotation['iscrowd'] == 0 or annotation['iscrowd'] == 1, \"'{}' must either be 0 or 1. {} is invalid\".format('iscrowd', annotation['iscrowd']) # Check if 'iscrowd' contains either '0' or '1'\n"
   ]
  },
  {
   "cell_type": "code",
   "execution_count": 73,
   "id": "a0209710",
   "metadata": {},
   "outputs": [
    {
     "name": "stdout",
     "output_type": "stream",
     "text": [
      "The dataset format is COCO!\n"
     ]
    }
   ],
   "source": [
    "def main():\n",
    "    required_keys = ['images', 'annotations', 'categories'] # Have a copy for the mandatory keys in a list\n",
    "    for required_key in required_keys: # Loop through each required key\n",
    "        assert required_key in coco_data.keys(), \"Required key '{}' not found in the COCO dataset\".format(required_key) # Check if the required key is present\n",
    "        assert len(coco_data[required_key]) > 0, \"Required key '{}' does not contain values\".format(required_key) # Check if the required key contains value\n",
    "\n",
    "    image_map = assertions('images', coco_data['images'], [\"file_name\", \"height\", \"width\", \"id\"], \"file_name\") # Verify the presence of keys present under 'images'\n",
    "    category_map = assertions('categories', coco_data['categories'], [\"id\", \"name\", \"supercategory\"], \"name\") # Verify the presence of keys present under 'categories'\n",
    "    annotation_assertions('annotations', coco_data['annotations'], image_map, category_map) # Verify the validity of keys under annotations\n",
    "    print('The dataset format is COCO!') # If no error is thrown, the dataset is validated to be in COCO format\n",
    "\n",
    "if __name__ == '__main__':\n",
    "    main()"
   ]
  }
 ],
 "metadata": {
  "kernelspec": {
   "display_name": "Python 3 (ipykernel)",
   "language": "python",
   "name": "python3"
  },
  "language_info": {
   "codemirror_mode": {
    "name": "ipython",
    "version": 3
   },
   "file_extension": ".py",
   "mimetype": "text/x-python",
   "name": "python",
   "nbconvert_exporter": "python",
   "pygments_lexer": "ipython3",
   "version": "3.10.8"
  }
 },
 "nbformat": 4,
 "nbformat_minor": 5
}
